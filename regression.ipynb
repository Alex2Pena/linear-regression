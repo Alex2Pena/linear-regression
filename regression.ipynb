{
 "metadata": {
  "language_info": {
   "codemirror_mode": {
    "name": "ipython",
    "version": 3
   },
   "file_extension": ".py",
   "mimetype": "text/x-python",
   "name": "python",
   "nbconvert_exporter": "python",
   "pygments_lexer": "ipython3",
   "version": 3
  },
  "orig_nbformat": 2
 },
 "nbformat": 4,
 "nbformat_minor": 2,
 "cells": [
  {
   "source": [
    "How much more time do people spend time on Netflix since Corona virus\n"
   ],
   "cell_type": "markdown",
   "metadata": {}
  },
  {
   "source": [
    "1. Load the data you receive into a Pandas DataFrame.\n",
    "2. Show the first five rows of the data set.\n",
    "3. Show the description and the info of the data set.\n",
    "4. Ensure that any date columns have been cast into a datetime object in your DataFrame.\n",
    "5. Using a regression model, split your data into train and test data.\n",
    "6. Fit your training split to the regression model.\n",
    "7. Show your regression model’s score.\n",
    "8. Draw at least three conclusions from your regression model.\n",
    "Your notebook should be clutter free and polished.\n"
   ],
   "cell_type": "markdown",
   "metadata": {}
  }
 ]
}